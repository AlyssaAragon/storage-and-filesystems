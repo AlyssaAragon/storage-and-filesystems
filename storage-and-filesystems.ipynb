{
 "cells": [
  {
   "cell_type": "markdown",
   "id": "4ded75f2-9567-427b-bb6a-83eb16be47c5",
   "metadata": {},
   "source": [
    "# Assignment #3 - Storage and Filesystems"
   ]
  },
  {
   "cell_type": "markdown",
   "id": "a40c3b89-b15f-416d-8746-c61bb5e26170",
   "metadata": {},
   "source": [
    "I have attached 5 virtual disks to your VM. Each disk is 1 GiB.\n",
    "You will be using all 5 virtual disks for this assignment. "
   ]
  },
  {
   "cell_type": "markdown",
   "id": "37e21bf2-ccdd-458b-8d5d-05de990dc918",
   "metadata": {},
   "source": [
    "Be very careful to not make any changes to your primary disk `/dev/sda`"
   ]
  },
  {
   "cell_type": "markdown",
   "id": "a8d587c1-45b0-4b6c-aba9-458c15e75829",
   "metadata": {},
   "source": [
    "## Part 1 - Partitioning (40 points)"
   ]
  },
  {
   "cell_type": "markdown",
   "id": "02454b21-d88c-443c-8d74-f77b0b45be28",
   "metadata": {},
   "source": [
    "For this first part, you're going to do the following:\n",
    "\n",
    "- View information about the virtual disks\n",
    "- Partition a virtual disk\n",
    "- Create a filesystem on the disk\n",
    "- Mount the disk\n",
    "- Create a large test file on the mounted disk\n",
    "- Unmount the disk\n",
    "- Shrink the filesystem while keeping the large test file intact\n",
    "- Shrink the partition\n",
    "- Expand the filesystem to match the new partition size\n",
    "- Remount the disk\n",
    "- Wipe the disk to start fresh for part 2"
   ]
  },
  {
   "cell_type": "code",
   "execution_count": 1,
   "id": "95fe4d8d-13cd-4598-b577-ea41c34e0160",
   "metadata": {},
   "outputs": [
    {
     "name": "stdout",
     "output_type": "stream",
     "text": [
      "NAME   MAJ:MIN RM   SIZE RO TYPE MOUNTPOINTS\n",
      "loop0    7:0    0  73.9M  1 loop /snap/core22/1748\n",
      "loop1    7:1    0 104.2M  1 loop /snap/core/17200\n",
      "loop2    7:2    0 104.8M  1 loop /snap/lxd/31214\n",
      "loop3    7:3    0 112.9M  1 loop /snap/lxd/32455\n",
      "loop4    7:4    0  44.4M  1 loop /snap/snapd/23545\n",
      "sda      8:0    0    42G  0 disk \n",
      "├─sda1   8:1    0   512M  0 part /boot/efi\n",
      "├─sda2   8:2    0  40.5G  0 part /\n",
      "└─sda3   8:3    0   976M  0 part [SWAP]\n",
      "sdb      8:16   0     1G  0 disk \n",
      "sdc      8:32   0     1G  0 disk \n",
      "sdd      8:48   0     1G  0 disk \n",
      "sde      8:64   0     1G  0 disk \n",
      "sdf      8:80   0     1G  0 disk \n"
     ]
    }
   ],
   "source": [
    "# List all disks\n",
    "lsblk"
   ]
  },
  {
   "cell_type": "code",
   "execution_count": 2,
   "id": "d69738a4-2bed-4e29-bdec-f9102e8fc2a4",
   "metadata": {},
   "outputs": [
    {
     "name": "stdout",
     "output_type": "stream",
     "text": [
      "sdb       1G disk\n",
      "sdc       1G disk\n",
      "sdd       1G disk\n",
      "sde       1G disk\n",
      "sdf       1G disk\n"
     ]
    }
   ],
   "source": [
    "# In this cell, use lsblk with the -d flag to only print the five 1G disks\n",
    "lsblk -d -o NAME,SIZE,TYPE | grep ' 1G'\n"
   ]
  },
  {
   "cell_type": "markdown",
   "id": "c60744cc-5310-4a06-9d56-fc0033146779",
   "metadata": {},
   "source": [
    "### Now that you have the `/dev` addresses of all five 1G disks, you're going to partition them."
   ]
  },
  {
   "cell_type": "code",
   "execution_count": 3,
   "id": "dc38a5c4-bc49-4dfe-a870-d5c24421ab59",
   "metadata": {},
   "outputs": [
    {
     "name": "stdout",
     "output_type": "stream",
     "text": [
      "Reading package lists... Done\n",
      "Building dependency tree... Done\n",
      "Reading state information... Done\n",
      "The following additional packages will be installed:\n",
      "  libparted2\n",
      "Suggested packages:\n",
      "  libparted-dev libparted-i18n parted-doc\n",
      "The following NEW packages will be installed:\n",
      "  libparted2 parted\n",
      "0 upgraded, 2 newly installed, 0 to remove and 3 not upgraded.\n",
      "Need to get 333 kB of archives.\n",
      "After this operation, 662 kB of additional disk space will be used.\n",
      "Get:1 http://deb.debian.org/debian bookworm/main amd64 libparted2 amd64 3.5-3 [294 kB]\n",
      "Get:2 http://deb.debian.org/debian bookworm/main amd64 parted amd64 3.5-3 [39.1 kB]\n",
      "Fetched 333 kB in 0s (2,313 kB/s)\u001b[33m\n",
      "debconf: unable to initialize frontend: Dialog\n",
      "debconf: (Dialog frontend will not work on a dumb terminal, an emacs shell buffer, or without a controlling terminal.)\n",
      "debconf: falling back to frontend: Readline\n",
      "\n",
      "\u001b7\u001b[0;23r\u001b8\u001b[1ASelecting previously unselected package libparted2:amd64.\n",
      "(Reading database ... 97622 files and directories currently installed.)\n",
      "Preparing to unpack .../libparted2_3.5-3_amd64.deb ...\n",
      "\u001b7\u001b[24;0f\u001b[42m\u001b[30mProgress: [  0%]\u001b[49m\u001b[39m [..........................................................] \u001b8\u001b7\u001b[24;0f\u001b[42m\u001b[30mProgress: [ 11%]\u001b[49m\u001b[39m [######....................................................] \u001b8Unpacking libparted2:amd64 (3.5-3) ...\n",
      "\u001b7\u001b[24;0f\u001b[42m\u001b[30mProgress: [ 22%]\u001b[49m\u001b[39m [############..............................................] \u001b8Selecting previously unselected package parted.\n",
      "Preparing to unpack .../parted_3.5-3_amd64.deb ...\n",
      "\u001b7\u001b[24;0f\u001b[42m\u001b[30mProgress: [ 33%]\u001b[49m\u001b[39m [###################.......................................] \u001b8Unpacking parted (3.5-3) ...\n",
      "\u001b7\u001b[24;0f\u001b[42m\u001b[30mProgress: [ 44%]\u001b[49m\u001b[39m [#########################.................................] \u001b8Setting up libparted2:amd64 (3.5-3) ...\n",
      "\u001b7\u001b[24;0f\u001b[42m\u001b[30mProgress: [ 56%]\u001b[49m\u001b[39m [################################..........................] \u001b8\u001b7\u001b[24;0f\u001b[42m\u001b[30mProgress: [ 67%]\u001b[49m\u001b[39m [######################################....................] \u001b8Setting up parted (3.5-3) ...\n",
      "\u001b7\u001b[24;0f\u001b[42m\u001b[30mProgress: [ 78%]\u001b[49m\u001b[39m [#############################################.............] \u001b8\u001b7\u001b[24;0f\u001b[42m\u001b[30mProgress: [ 89%]\u001b[49m\u001b[39m [###################################################.......] \u001b8Processing triggers for libc-bin (2.36-9+deb12u9) ...\n",
      "Processing triggers for man-db (2.11.2-2) ...\n",
      "\n",
      "\u001b7\u001b[0;24r\u001b8\u001b[1A\u001b[J\n"
     ]
    }
   ],
   "source": [
    "# Install parted\n",
    "sudo apt -y install parted"
   ]
  },
  {
   "cell_type": "markdown",
   "id": "4a930d23-71b0-4050-a9ec-f8ed3cc9a003",
   "metadata": {},
   "source": [
    "### In a terminal, use `parted` to create a GPT partition table on `/dev/sdb`"
   ]
  },
  {
   "cell_type": "code",
   "execution_count": 5,
   "id": "5a2b810c-fa44-4d11-b083-3b623cf78b6e",
   "metadata": {},
   "outputs": [
    {
     "name": "stdout",
     "output_type": "stream",
     "text": [
      "Partition Table: gpt\n"
     ]
    }
   ],
   "source": [
    "# Verify that you created a gpt partition table on /dev/sdb\n",
    "sudo parted /dev/sdb print | grep 'Partition Table:'"
   ]
  },
  {
   "cell_type": "markdown",
   "id": "8408c95c-abba-4da3-a1bf-47ca0f4e0f79",
   "metadata": {},
   "source": [
    "### In a terminal, use `parted` to create a single partition that spans the entirety of `/dev/sdb`"
   ]
  },
  {
   "cell_type": "code",
   "execution_count": 6,
   "id": "01a53138-040a-4cd5-8ff4-401ccd41c1a0",
   "metadata": {},
   "outputs": [
    {
     "name": "stdout",
     "output_type": "stream",
     "text": [
      "Model: QEMU QEMU HARDDISK (scsi)\n",
      "Disk /dev/sdb: 1074MB\n",
      "Sector size (logical/physical): 512B/512B\n",
      "Partition Table: gpt\n",
      "Disk Flags: \n",
      "\n",
      "Number  Start   End     Size    File system  Name     Flags\n",
      " 1      1049kB  1073MB  1072MB               primary\n",
      "\n"
     ]
    }
   ],
   "source": [
    "# Verify that you created the partition correctly\n",
    "# You should see a single partition with a size of 1072MB\n",
    "sudo parted /dev/sdb print"
   ]
  },
  {
   "cell_type": "code",
   "execution_count": 7,
   "id": "21eda6ee-85ad-41c7-b798-c84c4258cc95",
   "metadata": {},
   "outputs": [
    {
     "name": "stdout",
     "output_type": "stream",
     "text": [
      "sdb      8:16   0     1G  0 disk \n",
      "└─sdb1   8:17   0  1022M  0 part \n"
     ]
    }
   ],
   "source": [
    "# Show the partition with lsblk\n",
    "lsblk | grep sdb"
   ]
  },
  {
   "cell_type": "markdown",
   "id": "8c0b6b63-fc59-4939-94cb-7a39bef26329",
   "metadata": {},
   "source": [
    "### Format the partition as ext4"
   ]
  },
  {
   "cell_type": "code",
   "execution_count": 8,
   "id": "b99f4783-b923-448c-b63b-f010b7f54800",
   "metadata": {},
   "outputs": [
    {
     "name": "stdout",
     "output_type": "stream",
     "text": [
      "mke2fs 1.47.0 (5-Feb-2023)\n",
      "Discarding device blocks: done                            \n",
      "Creating filesystem with 261632 4k blocks and 65408 inodes\n",
      "Filesystem UUID: 504f0ce2-4f13-4e01-84f4-429214dbb010\n",
      "Superblock backups stored on blocks: \n",
      "\t32768, 98304, 163840, 229376\n",
      "\n",
      "Allocating group tables: done                            \n",
      "Writing inode tables: done                            \n",
      "Creating journal (4096 blocks): done\n",
      "Writing superblocks and filesystem accounting information: done\n",
      "\n"
     ]
    }
   ],
   "source": [
    "# In this cell, write the command to format /dev/sdb1 as ext4\n",
    "sudo mkfs.ext4 /dev/sdb1"
   ]
  },
  {
   "cell_type": "code",
   "execution_count": 9,
   "id": "6f78b7ce-db64-472d-8cb0-0bbbec509197",
   "metadata": {},
   "outputs": [
    {
     "name": "stdout",
     "output_type": "stream",
     "text": [
      "/dev/sdb1: UUID=\"504f0ce2-4f13-4e01-84f4-429214dbb010\" BLOCK_SIZE=\"4096\" TYPE=\"ext4\" PARTLABEL=\"primary\" PARTUUID=\"405eb66d-0651-464a-8111-b1847aeb2515\"\n"
     ]
    }
   ],
   "source": [
    "# Verify that the filesystem was created correctly\n",
    "sudo blkid /dev/sdb1"
   ]
  },
  {
   "cell_type": "markdown",
   "id": "9a7e256c-c35c-4b7f-bf31-a7a196339d0d",
   "metadata": {},
   "source": [
    "### Create a directory at `/mnt/disk1` and mount `/dev/sdb1` to it using the `mount` command"
   ]
  },
  {
   "cell_type": "code",
   "execution_count": 10,
   "id": "26229347-15b9-4d3f-914f-462db87573cf",
   "metadata": {},
   "outputs": [],
   "source": [
    "# In this cell, write the command to create the /mnt/disk1 directory\n",
    "sudo mkdir /mnt/disk1"
   ]
  },
  {
   "cell_type": "code",
   "execution_count": 11,
   "id": "4222c94a-9ff5-4b26-be50-751bce9a3e2c",
   "metadata": {},
   "outputs": [],
   "source": [
    "# In this cell, write the command to mount /dev/sdb1 to /mnt/disk1\n",
    "sudo mount /dev/sdb1 /mnt/disk1"
   ]
  },
  {
   "cell_type": "code",
   "execution_count": 12,
   "id": "35f38ff7-b167-4689-8151-4084bc5eca2d",
   "metadata": {},
   "outputs": [
    {
     "name": "stdout",
     "output_type": "stream",
     "text": [
      "/dev/sdb1 on /mnt/disk1 type ext4 (rw,relatime)\n"
     ]
    }
   ],
   "source": [
    "# Verify that it's mounted correctly\n",
    "mount | grep /mnt/disk1"
   ]
  },
  {
   "cell_type": "markdown",
   "id": "589cfce7-439c-4a0e-ac55-b3c42df8be59",
   "metadata": {},
   "source": [
    "## Part 2 - Safely shrinking partitions"
   ]
  },
  {
   "cell_type": "code",
   "execution_count": 13,
   "id": "84ab4f00-66e9-4b5a-88a3-9ffd24729cb8",
   "metadata": {},
   "outputs": [
    {
     "name": "stdout",
     "output_type": "stream",
     "text": [
      "100+0 records in\n",
      "100+0 records out\n",
      "104857600 bytes (105 MB, 100 MiB) copied, 0.133424 s, 786 MB/s\n"
     ]
    }
   ],
   "source": [
    "# Create a 100 MB file in /mnt/disk1\n",
    "sudo dd if=/dev/zero of=/mnt/disk1/100MB_file bs=1M count=100"
   ]
  },
  {
   "cell_type": "code",
   "execution_count": 14,
   "id": "ff4c041b-b5af-4076-abdf-94c4c5a0c061",
   "metadata": {},
   "outputs": [
    {
     "name": "stdout",
     "output_type": "stream",
     "text": [
      "-rw-r--r-- 1 root root 100M Apr 16 08:18 /mnt/disk1/100MB_file\n"
     ]
    }
   ],
   "source": [
    "# Verify the file was created successfully\n",
    "ls -lh /mnt/disk1/100MB_file"
   ]
  },
  {
   "cell_type": "code",
   "execution_count": 15,
   "id": "af255485-f80e-458c-979e-d3a298da2437",
   "metadata": {},
   "outputs": [],
   "source": [
    "# In this cell, write the command to unmount /mnt/disk1 using the umount command\n",
    "# HINT: Make sure your terminal is not currently inside /mnt/disk1 or else you will get a 'target busy' error\n",
    "sudo umount /mnt/disk1"
   ]
  },
  {
   "cell_type": "code",
   "execution_count": 16,
   "id": "86daf083-4b59-4f0e-b1f8-a8812cbf5abe",
   "metadata": {},
   "outputs": [
    {
     "name": "stdout",
     "output_type": "stream",
     "text": [
      "e2fsck 1.47.0 (5-Feb-2023)\n",
      "Pass 1: Checking inodes, blocks, and sizes\n",
      "Pass 2: Checking directory structure\n",
      "Pass 3: Checking directory connectivity\n",
      "Pass 4: Checking reference counts\n",
      "Pass 5: Checking group summary information\n",
      "/dev/sdb1: 12/65408 files (8.3% non-contiguous), 34451/261632 blocks\n"
     ]
    }
   ],
   "source": [
    "# Verify filesystem integrity before shrinking\n",
    "sudo e2fsck -f /dev/sdb1"
   ]
  },
  {
   "cell_type": "markdown",
   "id": "88cd1e9f-c47c-4172-8fb5-36d6d5f25898",
   "metadata": {},
   "source": [
    "### Shrink the `/dev/sdb1` filesystem to its minimum size (approximately 150MB due to the large file you created)"
   ]
  },
  {
   "cell_type": "code",
   "execution_count": 17,
   "id": "c6f8375f-6ed4-4c4c-824d-84364201994b",
   "metadata": {},
   "outputs": [
    {
     "name": "stdout",
     "output_type": "stream",
     "text": [
      "resize2fs 1.47.0 (5-Feb-2023)\n",
      "Resizing the filesystem on /dev/sdb1 to 37655 (4k) blocks.\n",
      "The filesystem on /dev/sdb1 is now 37655 (4k) blocks long.\n",
      "\n"
     ]
    }
   ],
   "source": [
    "# In this cell, write a command using `resize2fs` to shrink /dev/sdb1 to its minimum size\n",
    "# HINT: There is a flag that automatically shrinks to the minimum size without you having to calculate it\n",
    "sudo resize2fs -M /dev/sdb1"
   ]
  },
  {
   "cell_type": "markdown",
   "id": "71984339-fc00-48f0-b1ba-10efa1a4823f",
   "metadata": {},
   "source": [
    "### In a terminal, use `parted` to shrink the `/dev/sdb1` partition to 250MB"
   ]
  },
  {
   "cell_type": "code",
   "execution_count": 18,
   "id": "da89fa25-187b-4dd9-8383-ed03341f01b2",
   "metadata": {},
   "outputs": [
    {
     "name": "stdout",
     "output_type": "stream",
     "text": [
      "Model: QEMU QEMU HARDDISK (scsi)\n",
      "Disk /dev/sdb: 1074MB\n",
      "Sector size (logical/physical): 512B/512B\n",
      "Partition Table: gpt\n",
      "Disk Flags: \n",
      "\n",
      "Number  Start   End    Size   File system  Name     Flags\n",
      " 1      1049kB  250MB  249MB  ext4         primary\n",
      "\n"
     ]
    }
   ],
   "source": [
    "# Verify that the partition was shrunk to 250MB\n",
    "sudo parted /dev/sdb print"
   ]
  },
  {
   "cell_type": "code",
   "execution_count": 19,
   "id": "50313d9c-e52e-4245-bc0d-25d9946730db",
   "metadata": {},
   "outputs": [],
   "source": [
    "# In this cell, write the command to mount /dev/sdb1 to /mnt/disk1\n",
    "# Hint: You already did this once, so just copy the same command from before\n",
    "sudo mount /dev/sdb1 /mnt/disk1\n"
   ]
  },
  {
   "cell_type": "code",
   "execution_count": 20,
   "id": "0f952d56-e8fa-460d-8483-1a402aace5e9",
   "metadata": {},
   "outputs": [
    {
     "name": "stdout",
     "output_type": "stream",
     "text": [
      "/dev/sdb1 on /mnt/disk1 type ext4 (rw,relatime)\n"
     ]
    }
   ],
   "source": [
    "# Verify that the drive is mounted again\n",
    "mount | grep /mnt/disk1"
   ]
  },
  {
   "cell_type": "markdown",
   "id": "c7489b25-15a9-49e8-81e6-b4cb3292075e",
   "metadata": {},
   "source": [
    "### Use `resize2fs` to expand the filesystem to match the 250 MB partition size"
   ]
  },
  {
   "cell_type": "code",
   "execution_count": 21,
   "id": "ee3db795-47d0-4f00-9954-320a23f364d4",
   "metadata": {},
   "outputs": [
    {
     "name": "stdout",
     "output_type": "stream",
     "text": [
      "resize2fs 1.47.0 (5-Feb-2023)\n",
      "Filesystem at /dev/sdb1 is mounted on /mnt/disk1; on-line resizing required\n",
      "old_desc_blocks = 1, new_desc_blocks = 1\n",
      "The filesystem on /dev/sdb1 is now 60779 (4k) blocks long.\n",
      "\n"
     ]
    }
   ],
   "source": [
    "# In this cell, write the command to resize the filesystem to fully occupy the 250 MB partition\n",
    "sudo resize2fs /dev/sdb1\n"
   ]
  },
  {
   "cell_type": "code",
   "execution_count": 22,
   "id": "88f72db3-43be-4a00-8d40-d89d90627fb3",
   "metadata": {},
   "outputs": [
    {
     "name": "stdout",
     "output_type": "stream",
     "text": [
      "Filesystem      Size  Used Avail Use% Mounted on\n",
      "/dev/sdb1       217M  101M  107M  49% /mnt/disk1\n"
     ]
    }
   ],
   "source": [
    "# Verify that the filesystem is now expanded to fit the partition\n",
    "# It will not be exactly 250 MB, but it should be over 200 MB\n",
    "df -h /mnt/disk1"
   ]
  },
  {
   "cell_type": "markdown",
   "id": "74a84791-d214-4e6e-9c9a-c974a28e3cc5",
   "metadata": {},
   "source": [
    "# Short answer (10 points)\n",
    "\n",
    "You shrunk the filesystem before the partition because shrinking the partition first can be destructive. Filesystems must always be contained fully within a partition to avoid filesystem corruption and data loss. In Part 1, you shrunk a filesystem to a smaller size (~150 MB) than you shrunk the partition to (250MB), then you expanded the filesystem to occupy the new 250MB partition size. While this is not necessary, why might this be safer than simply shrinking the filesystem to 250MB and then shrinking the partition to the exact same size?\n",
    "\n",
    "Write your answer in the cell below."
   ]
  },
  {
   "cell_type": "markdown",
   "id": "08c8b1b4-d613-40de-b5aa-f410a5356fd6",
   "metadata": {},
   "source": [
    "Shrinking the filesystem before shrinking the partition is much safer because it verifies that the filesystem itself is smaller than the partition before making any changes to the partition size. If you shrink the partition first, there's a risk that the filesystem might be bigger than the partition’s new limits, which could result in filesystem corruption or data loss. By shrinking the filesystem first, you make sure it fits within the partition, reducing the risk of data being lost when the partition size is reduced."
   ]
  },
  {
   "cell_type": "markdown",
   "id": "f89bd071-057e-411e-9a46-8ed04f5b5e09",
   "metadata": {},
   "source": [
    "# Part 2 - LVMs (40 points)"
   ]
  },
  {
   "cell_type": "markdown",
   "id": "e07fcc4f-d121-49de-bd30-3556a0b3bfe5",
   "metadata": {},
   "source": [
    "In this part, you will:\n",
    "- Create an LVM that spans 4 disks\n",
    "- Create a file larger than the size of any single disk to verify functionality\n",
    "- Create a snapshot\n",
    "- Delete the file\n",
    "- Restore the LVM snapshot"
   ]
  },
  {
   "cell_type": "code",
   "execution_count": 23,
   "id": "a30c2a64-fc2f-4582-b681-ad7b3fbdac1a",
   "metadata": {},
   "outputs": [
    {
     "name": "stdout",
     "output_type": "stream",
     "text": [
      "Reading package lists... Done\n",
      "Building dependency tree... Done\n",
      "Reading state information... Done\n",
      "The following additional packages will be installed:\n",
      "  dmeventd libaio1 libdevmapper-event1.02.1 liblvm2cmd2.03\n",
      "  thin-provisioning-tools\n",
      "The following NEW packages will be installed:\n",
      "  dmeventd libaio1 libdevmapper-event1.02.1 liblvm2cmd2.03 lvm2\n",
      "  thin-provisioning-tools\n",
      "0 upgraded, 6 newly installed, 0 to remove and 3 not upgraded.\n",
      "Need to get 2,448 kB of archives.\n",
      "After this operation, 8,992 kB of additional disk space will be used.\n",
      "Ign:1 http://deb.debian.org/debian bookworm/main amd64 libdevmapper-event1.02.1 amd64 2:1.02.185-2\n",
      "Get:2 http://deb.debian.org/debian bookworm/main amd64 libaio1 amd64 0.3.113-4 [13.4 kB]\n",
      "Get:3 http://deb.debian.org/debian bookworm/main amd64 liblvm2cmd2.03 amd64 2.03.16-2 [742 kB]\n",
      "Get:4 http://deb.debian.org/debian bookworm/main amd64 dmeventd amd64 2:1.02.185-2 [59.2 kB]\n",
      "Get:5 http://deb.debian.org/debian bookworm/main amd64 lvm2 amd64 2.03.16-2 [1,229 kB]\n",
      "Get:6 http://deb.debian.org/debian bookworm/main amd64 thin-provisioning-tools amd64 0.9.0-2 [391 kB]\n",
      "Get:1 http://deb.debian.org/debian bookworm/main amd64 libdevmapper-event1.02.1 amd64 2:1.02.185-2 [12.9 kB]\n",
      "Fetched 2,448 kB in 1min 1s (39.9 kB/s)             \u001b[0m\u001b[33m\n",
      "debconf: unable to initialize frontend: Dialog\n",
      "debconf: (Dialog frontend will not work on a dumb terminal, an emacs shell buffer, or without a controlling terminal.)\n",
      "debconf: falling back to frontend: Readline\n",
      "\n",
      "\u001b7\u001b[0;23r\u001b8\u001b[1ASelecting previously unselected package libdevmapper-event1.02.1:amd64.\n",
      "(Reading database ... 97635 files and directories currently installed.)\n",
      "Preparing to unpack .../0-libdevmapper-event1.02.1_2%3a1.02.185-2_amd64.deb ...\n",
      "\u001b7\u001b[24;0f\u001b[42m\u001b[30mProgress: [  0%]\u001b[49m\u001b[39m [..........................................................] \u001b8\u001b7\u001b[24;0f\u001b[42m\u001b[30mProgress: [  4%]\u001b[49m\u001b[39m [##........................................................] \u001b8Unpacking libdevmapper-event1.02.1:amd64 (2:1.02.185-2) ...\n",
      "\u001b7\u001b[24;0f\u001b[42m\u001b[30mProgress: [  8%]\u001b[49m\u001b[39m [####......................................................] \u001b8Selecting previously unselected package libaio1:amd64.\n",
      "Preparing to unpack .../1-libaio1_0.3.113-4_amd64.deb ...\n",
      "\u001b7\u001b[24;0f\u001b[42m\u001b[30mProgress: [ 12%]\u001b[49m\u001b[39m [######....................................................] \u001b8Unpacking libaio1:amd64 (0.3.113-4) ...\n",
      "\u001b7\u001b[24;0f\u001b[42m\u001b[30mProgress: [ 16%]\u001b[49m\u001b[39m [#########.................................................] \u001b8Selecting previously unselected package liblvm2cmd2.03:amd64.\n",
      "Preparing to unpack .../2-liblvm2cmd2.03_2.03.16-2_amd64.deb ...\n",
      "\u001b7\u001b[24;0f\u001b[42m\u001b[30mProgress: [ 20%]\u001b[49m\u001b[39m [###########...............................................] \u001b8Unpacking liblvm2cmd2.03:amd64 (2.03.16-2) ...\n",
      "\u001b7\u001b[24;0f\u001b[42m\u001b[30mProgress: [ 24%]\u001b[49m\u001b[39m [#############.............................................] \u001b8Selecting previously unselected package dmeventd.\n",
      "Preparing to unpack .../3-dmeventd_2%3a1.02.185-2_amd64.deb ...\n",
      "\u001b7\u001b[24;0f\u001b[42m\u001b[30mProgress: [ 28%]\u001b[49m\u001b[39m [################..........................................] \u001b8Unpacking dmeventd (2:1.02.185-2) ...\n",
      "\u001b7\u001b[24;0f\u001b[42m\u001b[30mProgress: [ 32%]\u001b[49m\u001b[39m [##################........................................] \u001b8Selecting previously unselected package lvm2.\n",
      "Preparing to unpack .../4-lvm2_2.03.16-2_amd64.deb ...\n",
      "\u001b7\u001b[24;0f\u001b[42m\u001b[30mProgress: [ 36%]\u001b[49m\u001b[39m [####################......................................] \u001b8Unpacking lvm2 (2.03.16-2) ...\n",
      "\u001b7\u001b[24;0f\u001b[42m\u001b[30mProgress: [ 40%]\u001b[49m\u001b[39m [#######################...................................] \u001b8Selecting previously unselected package thin-provisioning-tools.\n",
      "Preparing to unpack .../5-thin-provisioning-tools_0.9.0-2_amd64.deb ...\n",
      "\u001b7\u001b[24;0f\u001b[42m\u001b[30mProgress: [ 44%]\u001b[49m\u001b[39m [#########################.................................] \u001b8Unpacking thin-provisioning-tools (0.9.0-2) ...\n",
      "\u001b7\u001b[24;0f\u001b[42m\u001b[30mProgress: [ 48%]\u001b[49m\u001b[39m [###########################...............................] \u001b8Setting up libdevmapper-event1.02.1:amd64 (2:1.02.185-2) ...\n",
      "\u001b7\u001b[24;0f\u001b[42m\u001b[30mProgress: [ 52%]\u001b[49m\u001b[39m [##############################............................] \u001b8\u001b7\u001b[24;0f\u001b[42m\u001b[30mProgress: [ 56%]\u001b[49m\u001b[39m [################################..........................] \u001b8Setting up libaio1:amd64 (0.3.113-4) ...\n",
      "\u001b7\u001b[24;0f\u001b[42m\u001b[30mProgress: [ 60%]\u001b[49m\u001b[39m [##################################........................] \u001b8\u001b7\u001b[24;0f\u001b[42m\u001b[30mProgress: [ 64%]\u001b[49m\u001b[39m [#####################################.....................] \u001b8Setting up thin-provisioning-tools (0.9.0-2) ...\n",
      "\u001b7\u001b[24;0f\u001b[42m\u001b[30mProgress: [ 68%]\u001b[49m\u001b[39m [#######################################...................] \u001b8\u001b7\u001b[24;0f\u001b[42m\u001b[30mProgress: [ 72%]\u001b[49m\u001b[39m [#########################################.................] \u001b8Setting up liblvm2cmd2.03:amd64 (2.03.16-2) ...\n",
      "\u001b7\u001b[24;0f\u001b[42m\u001b[30mProgress: [ 76%]\u001b[49m\u001b[39m [############################################..............] \u001b8\u001b7\u001b[24;0f\u001b[42m\u001b[30mProgress: [ 80%]\u001b[49m\u001b[39m [##############################################............] \u001b8Setting up dmeventd (2:1.02.185-2) ...\n",
      "\u001b7\u001b[24;0f\u001b[42m\u001b[30mProgress: [ 84%]\u001b[49m\u001b[39m [################################################..........] \u001b8Created symlink /etc/systemd/system/sockets.target.wants/dm-event.socket → /lib/systemd/system/dm-event.socket.\n",
      "dm-event.service is a disabled or a static unit, not starting it.\n",
      "\u001b7\u001b[24;0f\u001b[42m\u001b[30mProgress: [ 88%]\u001b[49m\u001b[39m [###################################################.......] \u001b8Setting up lvm2 (2.03.16-2) ...\n",
      "\u001b7\u001b[24;0f\u001b[42m\u001b[30mProgress: [ 92%]\u001b[49m\u001b[39m [#####################################################.....] \u001b8Created symlink /etc/systemd/system/sysinit.target.wants/blk-availability.service → /lib/systemd/system/blk-availability.service.\n",
      "Created symlink /etc/systemd/system/sysinit.target.wants/lvm2-monitor.service → /lib/systemd/system/lvm2-monitor.service.\n",
      "Created symlink /etc/systemd/system/sysinit.target.wants/lvm2-lvmpolld.socket → /lib/systemd/system/lvm2-lvmpolld.socket.\n",
      "\u001b7\u001b[24;0f\u001b[42m\u001b[30mProgress: [ 96%]\u001b[49m\u001b[39m [#######################################################...] \u001b8Processing triggers for initramfs-tools (0.142+deb12u1) ...\n",
      "update-initramfs: Generating /boot/initrd.img-6.1.0-30-amd64\n",
      "Processing triggers for libc-bin (2.36-9+deb12u9) ...\n",
      "Processing triggers for man-db (2.11.2-2) ...\n",
      "\n",
      "\u001b7\u001b[0;24r\u001b8\u001b[1A\u001b[J\n"
     ]
    }
   ],
   "source": [
    "# Install LVM\n",
    "sudo apt -y install lvm2"
   ]
  },
  {
   "cell_type": "markdown",
   "id": "e0923f98-7209-4a04-9b5f-24d587725a84",
   "metadata": {},
   "source": [
    "### Create the LVM"
   ]
  },
  {
   "cell_type": "code",
   "execution_count": 26,
   "id": "b824fd66-714c-4d22-93c3-726d2c16a055",
   "metadata": {},
   "outputs": [
    {
     "name": "stdout",
     "output_type": "stream",
     "text": [
      "  Physical volume \"/dev/sdc\" successfully created.\n",
      "  Physical volume \"/dev/sdd\" successfully created.\n",
      "  Physical volume \"/dev/sde\" successfully created.\n",
      "  Physical volume \"/dev/sdf\" successfully created.\n"
     ]
    }
   ],
   "source": [
    "# In this cell, write a command using pvcreate to create LVM physical volumes on /dev/sdc, /dev/sdd, /dev/sde, and /dev/sdf\n",
    "sudo pvcreate /dev/sdc /dev/sdd /dev/sde /dev/sdf\n"
   ]
  },
  {
   "cell_type": "code",
   "execution_count": 27,
   "id": "fc7ec307-13ca-4ced-b96d-e5acffba5bd0",
   "metadata": {},
   "outputs": [
    {
     "name": "stdout",
     "output_type": "stream",
     "text": [
      "  PV         VG Fmt  Attr PSize PFree\n",
      "  /dev/sdc      lvm2 ---  1.00g 1.00g\n",
      "  /dev/sdd      lvm2 ---  1.00g 1.00g\n",
      "  /dev/sde      lvm2 ---  1.00g 1.00g\n",
      "  /dev/sdf      lvm2 ---  1.00g 1.00g\n"
     ]
    }
   ],
   "source": [
    "# Verify that the physical volumes were created\n",
    "sudo pvs"
   ]
  },
  {
   "cell_type": "code",
   "execution_count": 28,
   "id": "868050f3-a1bb-42dd-abdd-78006c95ec7a",
   "metadata": {},
   "outputs": [
    {
     "name": "stdout",
     "output_type": "stream",
     "text": [
      "  Volume group \"myvg\" successfully created\n"
     ]
    }
   ],
   "source": [
    "# In this cell, write a command using vgcreate to create a volume group named \"myvg\" that contains all four pvs\n",
    "sudo vgcreate myvg /dev/sdc /dev/sdd /dev/sde /dev/sdf"
   ]
  },
  {
   "cell_type": "code",
   "execution_count": 29,
   "id": "9cc12aca-084f-4ca5-95d1-069ed304f966",
   "metadata": {},
   "outputs": [
    {
     "name": "stdout",
     "output_type": "stream",
     "text": [
      "  VG   #PV #LV #SN Attr   VSize VFree\n",
      "  myvg   4   0   0 wz--n- 3.98g 3.98g\n"
     ]
    }
   ],
   "source": [
    "# Verify that the volume group was created\n",
    "sudo vgs"
   ]
  },
  {
   "cell_type": "code",
   "execution_count": 30,
   "id": "aa78ceff-fa29-4126-856c-abdef1fb8546",
   "metadata": {},
   "outputs": [
    {
     "name": "stdout",
     "output_type": "stream",
     "text": [
      "  Logical volume \"mylv\" created.\n"
     ]
    }
   ],
   "source": [
    "# In this cell, write a command using lvcreate to create a logical volume named \"mylv\" that occupies the entire vg\n",
    "sudo lvcreate -l 100%FREE -n mylv myvg\n"
   ]
  },
  {
   "cell_type": "code",
   "execution_count": 31,
   "id": "4b8ffc8d-f689-432a-883c-0193eb0ae2c9",
   "metadata": {},
   "outputs": [
    {
     "name": "stdout",
     "output_type": "stream",
     "text": [
      "  LV   VG   Attr       LSize Pool Origin Data%  Meta%  Move Log Cpy%Sync Convert\n",
      "  mylv myvg -wi-a----- 3.98g                                                    \n"
     ]
    }
   ],
   "source": [
    "# Verify that the logical volume was created\n",
    "sudo lvs"
   ]
  },
  {
   "cell_type": "markdown",
   "id": "6c2fd9fc-1f35-4495-be86-aaadbcea16b5",
   "metadata": {},
   "source": [
    "### Create and mount the filesystem"
   ]
  },
  {
   "cell_type": "code",
   "execution_count": 32,
   "id": "f0515ee3-6f0e-4c0a-bca5-11cf3fe70c65",
   "metadata": {},
   "outputs": [
    {
     "name": "stdout",
     "output_type": "stream",
     "text": [
      "mke2fs 1.47.0 (5-Feb-2023)\n",
      "Discarding device blocks: done                            \n",
      "Creating filesystem with 1044480 4k blocks and 261120 inodes\n",
      "Filesystem UUID: a7e7ec24-d221-4264-bb75-480e7fefc9ba\n",
      "Superblock backups stored on blocks: \n",
      "\t32768, 98304, 163840, 229376, 294912, 819200, 884736\n",
      "\n",
      "Allocating group tables: done                            \n",
      "Writing inode tables: done                            \n",
      "Creating journal (16384 blocks): done\n",
      "Writing superblocks and filesystem accounting information: done\n",
      "\n"
     ]
    }
   ],
   "source": [
    "# In this cell, write the command to format /dev/myvg/mylv as ext4\n",
    "sudo mkfs.ext4 /dev/myvg/mylv"
   ]
  },
  {
   "cell_type": "code",
   "execution_count": 33,
   "id": "929a7ab0-85b1-4d80-a592-271addaf60ae",
   "metadata": {},
   "outputs": [],
   "source": [
    "# In this cell, write the command to create the /mnt/lvm directory\n",
    "sudo mkdir /mnt/lvm"
   ]
  },
  {
   "cell_type": "code",
   "execution_count": 34,
   "id": "388893be-1953-45b4-bd66-2ace0929f91c",
   "metadata": {},
   "outputs": [],
   "source": [
    "# In this cell, write the command to mount /dev/myvg/mylvm to /mnt/lvm\n",
    "sudo mount /dev/myvg/mylv /mnt/lvm"
   ]
  },
  {
   "cell_type": "code",
   "execution_count": 35,
   "id": "d99a4ef2-9cdb-4ee5-9cac-e8b2481adbfe",
   "metadata": {},
   "outputs": [
    {
     "name": "stdout",
     "output_type": "stream",
     "text": [
      "/dev/mapper/myvg-mylv on /mnt/lvm type ext4 (rw,relatime)\n"
     ]
    }
   ],
   "source": [
    "# Verify that it's mounted correctly\n",
    "mount | grep /mnt/lvm"
   ]
  },
  {
   "cell_type": "code",
   "execution_count": 36,
   "id": "70bcf8a2-c4fb-4aee-ac18-e2148241e927",
   "metadata": {},
   "outputs": [
    {
     "name": "stdout",
     "output_type": "stream",
     "text": [
      "2000+0 records in\n",
      "2000+0 records out\n",
      "2097152000 bytes (2.1 GB, 2.0 GiB) copied, 2.36902 s, 885 MB/s\n"
     ]
    }
   ],
   "source": [
    "# Create a 2 GB file in /mnt/lvm (this may take a few seconds)\n",
    "sudo dd if=/dev/zero of=/mnt/lvm/2GB_file bs=1M count=2000"
   ]
  },
  {
   "cell_type": "code",
   "execution_count": 37,
   "id": "69d83fe2-5d86-4dbb-af56-2bc5a7fdef42",
   "metadata": {},
   "outputs": [
    {
     "name": "stdout",
     "output_type": "stream",
     "text": [
      "-rw-r--r-- 1 root root 2.0G Apr 16 08:40 /mnt/lvm/2GB_file\n"
     ]
    }
   ],
   "source": [
    "# Verify the file was created successfully\n",
    "ls -lh /mnt/lvm/2GB_file"
   ]
  },
  {
   "cell_type": "markdown",
   "id": "7e74b241-54bc-49f8-848c-6735ebfec0c7",
   "metadata": {},
   "source": [
    "### Re-create the LVM as RAID5"
   ]
  },
  {
   "cell_type": "code",
   "execution_count": 40,
   "id": "e7708a91-e572-44aa-a843-06e3413d4ff0",
   "metadata": {},
   "outputs": [],
   "source": [
    "# In this cell, write the command to unmount /mnt/lvm using the umount command\n",
    "# HINT: Make sure your terminal is not currently inside /mnt/lvm or else you will get a 'target busy' error\n",
    "sudo umount /mnt/lvm"
   ]
  },
  {
   "cell_type": "code",
   "execution_count": 43,
   "id": "d08d793c-595e-4033-b0f0-3a3188b87a4a",
   "metadata": {},
   "outputs": [
    {
     "name": "stdout",
     "output_type": "stream",
     "text": [
      "  Logical volume \"mylv\" successfully removed.\n"
     ]
    }
   ],
   "source": [
    "# Delete the lv\n",
    "sudo lvremove -y /dev/myvg/mylv"
   ]
  },
  {
   "cell_type": "code",
   "execution_count": 44,
   "id": "9d4f5937-e0d3-4e1f-ab70-995eece23f58",
   "metadata": {},
   "outputs": [
    {
     "name": "stdout",
     "output_type": "stream",
     "text": [
      "  Using default stripesize 64.00 KiB.\n",
      "  Logical volume \"myraidlv\" created.\n"
     ]
    }
   ],
   "source": [
    "# In this cell, write a command using lvcreate to create a RAID5 logical volume named \"myraidlv\" that occupies all four disks\n",
    "sudo lvcreate --type raid5 -L 800M -n myraidlv myvg"
   ]
  },
  {
   "cell_type": "code",
   "execution_count": 45,
   "id": "0f6a011b-486d-49e6-8c07-259e01a4136c",
   "metadata": {},
   "outputs": [
    {
     "name": "stdout",
     "output_type": "stream",
     "text": [
      "mke2fs 1.47.0 (5-Feb-2023)\n",
      "Creating filesystem with 204800 4k blocks and 51296 inodes\n",
      "Filesystem UUID: be15dc7a-4245-430a-85ca-13a48a71df7a\n",
      "Superblock backups stored on blocks: \n",
      "\t32768, 98304, 163840\n",
      "\n",
      "Allocating group tables: done                            \n",
      "Writing inode tables: done                            \n",
      "Creating journal (4096 blocks): done\n",
      "Writing superblocks and filesystem accounting information: done\n",
      "\n"
     ]
    }
   ],
   "source": [
    "# In this cell, write the command to format /dev/myvg/myraidlv as ext4\n",
    "sudo mkfs.ext4 /dev/myvg/myraidlv"
   ]
  },
  {
   "cell_type": "code",
   "execution_count": 46,
   "id": "86cd90d0-6428-4982-a374-e3f6824463da",
   "metadata": {},
   "outputs": [],
   "source": [
    "# In this cell, write the command to mount /dev/myvg/myraidlvm to /mnt/lvm\n",
    "sudo mount /dev/myvg/myraidlv /mnt/lvm"
   ]
  },
  {
   "cell_type": "code",
   "execution_count": 47,
   "id": "9466b335-e666-4109-b52f-529af20d21b6",
   "metadata": {},
   "outputs": [
    {
     "name": "stdout",
     "output_type": "stream",
     "text": [
      "/dev/mapper/myvg-myraidlv on /mnt/lvm type ext4 (rw,relatime,stripe=32)\n"
     ]
    }
   ],
   "source": [
    "# Verify that it's mounted correctly\n",
    "mount | grep /mnt/lvm"
   ]
  },
  {
   "cell_type": "code",
   "execution_count": 48,
   "id": "452c67d3-83c1-4d89-9a61-8936809aa02c",
   "metadata": {},
   "outputs": [
    {
     "name": "stdout",
     "output_type": "stream",
     "text": [
      "dd: error writing '/mnt/lvm/2GB_file': No space left on device\n",
      "754+0 records in\n",
      "753+0 records out\n",
      "790433792 bytes (790 MB, 754 MiB) copied, 3.1656 s, 250 MB/s\n"
     ]
    },
    {
     "ename": "",
     "evalue": "1",
     "output_type": "error",
     "traceback": []
    }
   ],
   "source": [
    "# Create a 2 GB file in /mnt/lvm (this may take a few seconds)\n",
    "sudo dd if=/dev/zero of=/mnt/lvm/2GB_file bs=1M count=2000"
   ]
  },
  {
   "cell_type": "code",
   "execution_count": 49,
   "id": "89453fa5-9eee-4c9c-b381-74c81da309b0",
   "metadata": {},
   "outputs": [
    {
     "name": "stdout",
     "output_type": "stream",
     "text": [
      "-rw-r--r-- 1 root root 754M Apr 16 10:17 /mnt/lvm/2GB_file\n"
     ]
    }
   ],
   "source": [
    "# Verify the file was created successfully\n",
    "ls -lh /mnt/lvm/2GB_file"
   ]
  },
  {
   "cell_type": "markdown",
   "id": "ac6e834b-4497-4609-8cfb-065bc84b8fb7",
   "metadata": {},
   "source": [
    "# Short answer (10 points)\n",
    "\n",
    "What is the capacity of the RAID5 LVM you just created? Why does it differ from the first LVM you made? Did the write speed of the 2GB file creation differ significantly? If so, why do you think that happened?\n",
    "\n",
    "Write your answer in the cell below."
   ]
  },
  {
   "cell_type": "markdown",
   "id": "29da18e8-b9c0-4b6b-933c-f5b45dd2f88c",
   "metadata": {},
   "source": [
    "The capacity of the RAID5 LVM I created is 800 MiB which differs from the first LVM I made because it used parity across the multiple disks which reduced the usuable storage capacity. Since the first LVM did not use the RAID configuration, it had a higher capacity since it could use the full disk space. The RAID5 volume had a slower write speed (250 MB/s) compared to the non-RAID volume (800 MB/s). This is expected because RAID5 introduces overhead due to the parity calculations that must be performed, which slows down write operations."
   ]
  },
  {
   "cell_type": "code",
   "execution_count": null,
   "id": "fa58a892-f097-4caf-8c16-c791af6b905c",
   "metadata": {},
   "outputs": [],
   "source": []
  }
 ],
 "metadata": {
  "kernelspec": {
   "display_name": "Bash",
   "language": "bash",
   "name": "bash"
  },
  "language_info": {
   "codemirror_mode": "shell",
   "file_extension": ".sh",
   "mimetype": "text/x-sh",
   "name": "bash"
  }
 },
 "nbformat": 4,
 "nbformat_minor": 5
}
